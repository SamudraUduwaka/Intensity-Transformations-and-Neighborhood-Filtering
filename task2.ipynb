{
 "cells": [
  {
   "cell_type": "markdown",
   "metadata": {},
   "source": [
    "To accentuate the white matter and gray matter in the brain proton density image, we need to apply two intensity transformations:\n",
    "\n",
    "White Matter: Typically has a higher intensity range in MRI images.\n",
    "Gray Matter: Typically has a mid-range intensity."
   ]
  },
  {
   "cell_type": "markdown",
   "metadata": {},
   "source": [
    "steps needed:\n",
    "\n",
    "Step 1: Load the brain image.\n",
    "Step 2: Apply an intensity transformation to highlight white matter and gray matter.\n",
    "Step 3: Show intensity transformation plots."
   ]
  },
  {
   "cell_type": "code",
   "execution_count": null,
   "metadata": {},
   "outputs": [],
   "source": [
    "from PIL import Image\n",
    "import numpy as np\n",
    "import matplotlib.pyplot as plt\n",
    "\n",
    "# Load the brain image\n",
    "brain_image_path = '/path/to/your/brain_image.png'  # Update with the correct path\n",
    "brain_image = Image.open(brain_image_path).convert('L')  # Convert to grayscale\n",
    "\n",
    "# Convert the brain image to a numpy array\n",
    "brain_image_np = np.array(brain_image)\n",
    "\n",
    "# Defining approximate intensity ranges for white and gray matter\n",
    "# White matter is generally in the 160-200 range\n",
    "# Gray matter is generally in the 110-160 range\n",
    "\n",
    "# Define the intensity transformation for accentuating white matter\n",
    "def white_matter_transformation(pixel_value):\n",
    "    if 160 <= pixel_value <= 200:\n",
    "        return min(255, int(255 * (pixel_value - 160) / 40))  # Stretch values to the highest contrast\n",
    "    else:\n",
    "        return 0  # Suppress other intensities\n",
    "\n",
    "# Define the intensity transformation for accentuating gray matter\n",
    "def gray_matter_transformation(pixel_value):\n",
    "    if 110 <= pixel_value <= 160:\n",
    "        return min(255, int(255 * (pixel_value - 110) / 50))  # Stretch values to enhance contrast\n",
    "    else:\n",
    "        return 0  # Suppress other intensities\n",
    "\n",
    "# Vectorize both transformation functions\n",
    "vectorized_white_matter = np.vectorize(white_matter_transformation)\n",
    "vectorized_gray_matter = np.vectorize(gray_matter_transformation)\n",
    "\n",
    "# Apply transformations\n",
    "white_matter_image_np = vectorized_white_matter(brain_image_np).astype(np.uint8)\n",
    "gray_matter_image_np = vectorized_gray_matter(brain_image_np).astype(np.uint8)\n",
    "\n",
    "# Convert the numpy arrays back to images\n",
    "white_matter_image = Image.fromarray(white_matter_image_np)\n",
    "gray_matter_image = Image.fromarray(gray_matter_image_np)\n",
    "\n",
    "# Plot the original and transformed images\n",
    "fig, axes = plt.subplots(1, 3, figsize=(18, 6))\n",
    "\n",
    "# Original brain image\n",
    "axes[0].imshow(brain_image_np, cmap='gray')\n",
    "axes[0].set_title(\"Original Brain Image\")\n",
    "axes[0].axis('off')\n",
    "\n",
    "# White matter enhanced\n",
    "axes[1].imshow(white_matter_image_np, cmap='gray')\n",
    "axes[1].set_title(\"White Matter Enhanced\")\n",
    "axes[1].axis('off')\n",
    "\n",
    "# Gray matter enhanced\n",
    "axes[2].imshow(gray_matter_image_np, cmap='gray')\n",
    "axes[2].set_title(\"Gray Matter Enhanced\")\n",
    "axes[2].axis('off')\n",
    "\n",
    "plt.show()"
   ]
  }
 ],
 "metadata": {
  "kernelspec": {
   "display_name": "Python 3",
   "language": "python",
   "name": "python3"
  },
  "language_info": {
   "name": "python",
   "version": "3.11.4"
  }
 },
 "nbformat": 4,
 "nbformat_minor": 2
}
