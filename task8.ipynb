{
 "cells": [
  {
   "cell_type": "markdown",
   "metadata": {},
   "source": [
    " Use grabCut to segment the image. Show the final segmentation mask, foreground image, and background image."
   ]
  },
  {
   "cell_type": "code",
   "execution_count": null,
   "metadata": {},
   "outputs": [],
   "source": []
  },
  {
   "cell_type": "markdown",
   "metadata": {},
   "source": [
    " Produce an enhanced image with a substantially blurred background. Display the original image alongside the enhanced image."
   ]
  },
  {
   "cell_type": "code",
   "execution_count": null,
   "metadata": {},
   "outputs": [],
   "source": []
  },
  {
   "cell_type": "markdown",
   "metadata": {},
   "source": [
    "Why is the background just beyond the edge of the flower quite dark in the enhanced image?"
   ]
  }
 ],
 "metadata": {
  "language_info": {
   "name": "python"
  }
 },
 "nbformat": 4,
 "nbformat_minor": 2
}
