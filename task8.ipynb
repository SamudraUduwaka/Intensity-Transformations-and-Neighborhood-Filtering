{
 "cells": [
  {
   "cell_type": "markdown",
   "metadata": {},
   "source": [
    " Use grabCut to segment the image. Show the final segmentation mask, foreground image, and background image."
   ]
  },
  {
   "cell_type": "code",
   "execution_count": null,
   "metadata": {},
   "outputs": [],
   "source": []
  }
 ],
 "metadata": {
  "language_info": {
   "name": "python"
  }
 },
 "nbformat": 4,
 "nbformat_minor": 2
}
